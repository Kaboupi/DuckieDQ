{
 "cells": [
  {
   "cell_type": "code",
   "execution_count": 23,
   "id": "e73f08c1",
   "metadata": {},
   "outputs": [],
   "source": [
    "from abc import ABC, abstractmethod\n",
    "from typing import Optional, Dict, List, Tuple, Any\n",
    "import logging\n",
    "from setup.logging_config import setup_logging\n",
    "import psycopg2 as pg\n",
    "import clickhouse_connect\n",
    "import os\n",
    "import yaml\n",
    "from pathlib import Path\n",
    "\n",
    "setup_logging()\n",
    "\n",
    "class DQParser:\n",
    "    __version: str = 'v0.0.1'\n",
    "    \n",
    "    def __init__(self, config_path: str):\n",
    "        self.logger = logging.getLogger(self.__class__.__name__)\n",
    "        self.logger.info(f'Version {self.version}')\n",
    "        \n",
    "        self.config_path = Path(config_path).resolve()\n",
    "        \n",
    "        if self.config_path.is_file() and self.config_path.suffix in ('.yaml', '.yml'):\n",
    "            self._parse_config(self.config_path)\n",
    "        elif self.config_path.is_dir():\n",
    "            for config_file in self.config_path.glob('*.y*ml'):\n",
    "                self._parse_config(config_file)\n",
    "        else:\n",
    "            self.logger.warning(f'Provided path {self.config_path} is invalid has no YAML/YML files.')\n",
    " \n",
    "    def _parse_config(self, config_path):\n",
    "        try:\n",
    "            with config_path.open('r', encoding='utf-8') as f:\n",
    "                config = yaml.safe_load(f)\n",
    "        except Exception as e:\n",
    "            self.logger.error(f'Failed to load config {config_path}: {e}')\n",
    "        \n",
    "        print(config)\n",
    "    \n",
    "    @property\n",
    "    def version(self) -> str:\n",
    "        return self.__version\n",
    "    "
   ]
  },
  {
   "cell_type": "code",
   "execution_count": 24,
   "id": "8fb95a8b",
   "metadata": {},
   "outputs": [
    {
     "name": "stderr",
     "output_type": "stream",
     "text": [
      "2025-04-23 11:47:07 | DQParser | INFO | Version v0.0.1\n"
     ]
    },
    {
     "name": "stdout",
     "output_type": "stream",
     "text": [
      "{'kind': 'apps/DQ', 'version': 'v1', 'metadata': {'project': 'customers_analytics', 'name': 'sales_data', 'annotations': {'owner': 'Georgiy Novozhilov', 'description': 'Sample DQ script for table `sales_data` both in:\\n  - Postgres\\n  - Clickhouse'}}, 'tasks': {'transfer_postgres_weekly': {'kind': 'TransferSQL', 'version': 'v1', 'spec': {'asset': {'domain': 'misis', 'key': 'facb8e28-3006-4414-9737-a4e4bd2db62b', 'description': 'Weekly turnover for Postgres', 'connection': 'postgres_db_conn', 'type': 'postgres'}, 'params': {'type': 'SQL', 'query': 'select\\n  date_trunc(\\'week\\', \"Date\") :: DATE valid_from_dttm\\n  , SUM(\"Cost\") as cost\\n  , SUM(\"Revenue\") as revenue\\nfrom misis_project.sales_data sd  group by 1 order by 1;', 'fields': {'dimDate': 'valid_from_dttm'}}}}, 'transfer_clickhouse_weekly': {'kind': 'TransferSQL', 'version': 'v1', 'spec': {'asset': {'domain': 'misis', 'key': 'facb8e28-3006-4414-9737-a4e4bd2db62b', 'description': 'Weekly turnover for Clickhouse', 'connection': 'clickhouse_db_conn', 'type': 'mysql'}, 'params': {'type': 'SQL', 'query': \"select\\n  valid_from_dttm\\n  , SUM(cost) as cost\\n  , SUM(revenue) as revenue\\nfrom misis_project.sales_data where agg_id = '2' group by 1 order by 1\", 'fields': {'dimDate': 'valid_from_dttm'}}}}, 'transfer_postgres_monthly': {'kind': 'TransferSQL', 'version': 'v1', 'spec': {'asset': {'domain': 'misis', 'key': '55742de1-95c6-45b7-80a3-cf3502c56a3d', 'description': 'Monthly turnover for Postgres', 'connection': 'postgres_db_conn', 'type': 'postgres'}, 'params': {'type': 'SQL', 'query': 'select\\n  date_trunc(\\'month\\', \"Date\") :: DATE valid_from_dttm\\n  , SUM(\"Cost\") as cost\\n  , SUM(\"Revenue\") as revenue\\nfrom misis_project.sales_data sd  group by 1 order by 1;', 'fields': {'dimDate': 'valid_from_dttm'}}}}, 'transfer_clickhouse_monthly': {'kind': 'TransferSQL', 'version': 'v1', 'spec': {'asset': {'domain': 'misis', 'key': '55742de1-95c6-45b7-80a3-cf3502c56a3d', 'description': 'Monthly turnover for Clickhouse', 'connection': 'clickhouse_db_conn', 'type': 'mysql'}, 'params': {'type': 'SQL', 'query': \"select\\n  valid_from_dttm\\n  , SUM(cost) as cost\\n  , SUM(revenue) as revenue\\nfrom misis_project.sales_data where agg_id = '1' group by 1 order by 1\", 'fields': {'dimDate': 'valid_from_dttm'}}}}}}\n"
     ]
    }
   ],
   "source": [
    "obj = DQParser('/home/kaboupi/repos/dq-app/dq_configs')"
   ]
  }
 ],
 "metadata": {
  "kernelspec": {
   "display_name": "venv",
   "language": "python",
   "name": "python3"
  },
  "language_info": {
   "codemirror_mode": {
    "name": "ipython",
    "version": 3
   },
   "file_extension": ".py",
   "mimetype": "text/x-python",
   "name": "python",
   "nbconvert_exporter": "python",
   "pygments_lexer": "ipython3",
   "version": "3.12.3"
  }
 },
 "nbformat": 4,
 "nbformat_minor": 5
}
